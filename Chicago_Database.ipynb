{
 "cells": [
  {
   "cell_type": "markdown",
   "metadata": {},
   "source": [
    "### Connect to the database\n",
    "\n",
    "\n"
   ]
  },
  {
   "cell_type": "code",
   "execution_count": 1,
   "metadata": {},
   "outputs": [
    {
     "name": "stdout",
     "output_type": "stream",
     "text": [
      "Requirement already satisfied: sqlalchemy==1.3.9 in /home/jupyterlab/conda/envs/python/lib/python3.6/site-packages (1.3.9)\n",
      "Requirement already satisfied: ibm_db_sa in /home/jupyterlab/conda/envs/python/lib/python3.6/site-packages (0.3.3)\n",
      "Requirement already satisfied: sqlalchemy>=0.7.3 in /home/jupyterlab/conda/envs/python/lib/python3.6/site-packages (from ibm_db_sa) (1.3.9)\n"
     ]
    }
   ],
   "source": [
    "!pip install sqlalchemy==1.3.9\n",
    "!pip install ibm_db_sa"
   ]
  },
  {
   "cell_type": "code",
   "execution_count": 2,
   "metadata": {},
   "outputs": [],
   "source": [
    "%load_ext sql"
   ]
  },
  {
   "cell_type": "code",
   "execution_count": 3,
   "metadata": {},
   "outputs": [
    {
     "data": {
      "text/plain": [
       "'Connected: ktl54482@BLUDB'"
      ]
     },
     "execution_count": 3,
     "metadata": {},
     "output_type": "execute_result"
    }
   ],
   "source": [
    "# Remember the connection string is of the format:\n",
    "# %sql ibm_db_sa://my-username:my-password@my-hostname:my-port/my-db-name?security=SSL\n",
    "# Enter the connection string for your Db2 on Cloud database instance below\n",
    "%sql ibm_db_sa://ktl54482:xxxxxxxxxx@dashdb-txn-sbox-yp-dal09-14.services.dal.bluemix.net:50000/BLUDB?security=\"SSL\""
   ]
  },
  {
   "cell_type": "markdown",
   "metadata": {},
   "source": [
    "\n",
    "### Problem 1\n",
    "\n",
    "##### Find the total number of crimes recorded in the CRIME table.\n"
   ]
  },
  {
   "cell_type": "code",
   "execution_count": 20,
   "metadata": {},
   "outputs": [
    {
     "name": "stdout",
     "output_type": "stream",
     "text": [
      " * ibm_db_sa://ktl54482:***@dashdb-txn-sbox-yp-dal09-14.services.dal.bluemix.net:50000/BLUDB\n",
      "Done.\n"
     ]
    },
    {
     "data": {
      "text/html": [
       "<table>\n",
       "    <thead>\n",
       "        <tr>\n",
       "            <th>1</th>\n",
       "        </tr>\n",
       "    </thead>\n",
       "    <tbody>\n",
       "        <tr>\n",
       "            <td>533</td>\n",
       "        </tr>\n",
       "    </tbody>\n",
       "</table>"
      ],
      "text/plain": [
       "[(Decimal('533'),)]"
      ]
     },
     "execution_count": 20,
     "metadata": {},
     "output_type": "execute_result"
    }
   ],
   "source": [
    "%sql select count(*) from CHICAGO_CRIME_DATA "
   ]
  },
  {
   "cell_type": "markdown",
   "metadata": {},
   "source": [
    "### Problem 2\n",
    "\n",
    "##### List community areas with per capita income less than 11000.\n"
   ]
  },
  {
   "cell_type": "code",
   "execution_count": 21,
   "metadata": {},
   "outputs": [
    {
     "name": "stdout",
     "output_type": "stream",
     "text": [
      " * ibm_db_sa://ktl54482:***@dashdb-txn-sbox-yp-dal09-14.services.dal.bluemix.net:50000/BLUDB\n",
      "Done.\n"
     ]
    },
    {
     "data": {
      "text/html": [
       "<table>\n",
       "    <thead>\n",
       "        <tr>\n",
       "            <th>community_area_name</th>\n",
       "            <th>per_capita_income</th>\n",
       "        </tr>\n",
       "    </thead>\n",
       "    <tbody>\n",
       "        <tr>\n",
       "            <td>West Garfield Park</td>\n",
       "            <td>10934</td>\n",
       "        </tr>\n",
       "        <tr>\n",
       "            <td>South Lawndale</td>\n",
       "            <td>10402</td>\n",
       "        </tr>\n",
       "        <tr>\n",
       "            <td>Fuller Park</td>\n",
       "            <td>10432</td>\n",
       "        </tr>\n",
       "        <tr>\n",
       "            <td>Riverdale</td>\n",
       "            <td>8201</td>\n",
       "        </tr>\n",
       "    </tbody>\n",
       "</table>"
      ],
      "text/plain": [
       "[('West Garfield Park', 10934),\n",
       " ('South Lawndale', 10402),\n",
       " ('Fuller Park', 10432),\n",
       " ('Riverdale', 8201)]"
      ]
     },
     "execution_count": 21,
     "metadata": {},
     "output_type": "execute_result"
    }
   ],
   "source": [
    "%sql select COMMUNITY_AREA_NAME, PER_CAPITA_INCOME from CENSUS_DATA where PER_CAPITA_INCOME < 11000"
   ]
  },
  {
   "cell_type": "markdown",
   "metadata": {},
   "source": [
    "### Problem 3\n",
    "\n",
    "##### List all case numbers for crimes  involving minors?(children are not considered minors for the purposes of crime analysis)\n"
   ]
  },
  {
   "cell_type": "code",
   "execution_count": 30,
   "metadata": {},
   "outputs": [
    {
     "name": "stdout",
     "output_type": "stream",
     "text": [
      " * ibm_db_sa://ktl54482:***@dashdb-txn-sbox-yp-dal09-14.services.dal.bluemix.net:50000/BLUDB\n",
      "Done.\n"
     ]
    },
    {
     "data": {
      "text/html": [
       "<table>\n",
       "    <thead>\n",
       "        <tr>\n",
       "            <th>case_number</th>\n",
       "        </tr>\n",
       "    </thead>\n",
       "    <tbody>\n",
       "        <tr>\n",
       "            <td>HH486939</td>\n",
       "        </tr>\n",
       "        <tr>\n",
       "            <td>G256545</td>\n",
       "        </tr>\n",
       "        <tr>\n",
       "            <td>HH201585</td>\n",
       "        </tr>\n",
       "        <tr>\n",
       "            <td>G212935</td>\n",
       "        </tr>\n",
       "        <tr>\n",
       "            <td>G662598</td>\n",
       "        </tr>\n",
       "        <tr>\n",
       "            <td>G040244</td>\n",
       "        </tr>\n",
       "        <tr>\n",
       "            <td>HH702524</td>\n",
       "        </tr>\n",
       "        <tr>\n",
       "            <td>G376790</td>\n",
       "        </tr>\n",
       "        <tr>\n",
       "            <td>HH869886</td>\n",
       "        </tr>\n",
       "        <tr>\n",
       "            <td>HH657809</td>\n",
       "        </tr>\n",
       "        <tr>\n",
       "            <td>HH316735</td>\n",
       "        </tr>\n",
       "        <tr>\n",
       "            <td>G597730</td>\n",
       "        </tr>\n",
       "        <tr>\n",
       "            <td>G736811</td>\n",
       "        </tr>\n",
       "        <tr>\n",
       "            <td>G517474</td>\n",
       "        </tr>\n",
       "        <tr>\n",
       "            <td>G056330</td>\n",
       "        </tr>\n",
       "        <tr>\n",
       "            <td>HH696901</td>\n",
       "        </tr>\n",
       "        <tr>\n",
       "            <td>HH558381</td>\n",
       "        </tr>\n",
       "        <tr>\n",
       "            <td>G688026</td>\n",
       "        </tr>\n",
       "        <tr>\n",
       "            <td>G419948</td>\n",
       "        </tr>\n",
       "        <tr>\n",
       "            <td>G533278</td>\n",
       "        </tr>\n",
       "        <tr>\n",
       "            <td>HH827769</td>\n",
       "        </tr>\n",
       "        <tr>\n",
       "            <td>HH639427</td>\n",
       "        </tr>\n",
       "        <tr>\n",
       "            <td>HH867007</td>\n",
       "        </tr>\n",
       "        <tr>\n",
       "            <td>G070193</td>\n",
       "        </tr>\n",
       "        <tr>\n",
       "            <td>G198370</td>\n",
       "        </tr>\n",
       "        <tr>\n",
       "            <td>HH741961</td>\n",
       "        </tr>\n",
       "        <tr>\n",
       "            <td>G140454</td>\n",
       "        </tr>\n",
       "        <tr>\n",
       "            <td>HH262924</td>\n",
       "        </tr>\n",
       "        <tr>\n",
       "            <td>HH619797</td>\n",
       "        </tr>\n",
       "        <tr>\n",
       "            <td>G134016</td>\n",
       "        </tr>\n",
       "        <tr>\n",
       "            <td>G496261</td>\n",
       "        </tr>\n",
       "        <tr>\n",
       "            <td>HH576932</td>\n",
       "        </tr>\n",
       "        <tr>\n",
       "            <td>G323273</td>\n",
       "        </tr>\n",
       "        <tr>\n",
       "            <td>HH657604</td>\n",
       "        </tr>\n",
       "        <tr>\n",
       "            <td>G170513</td>\n",
       "        </tr>\n",
       "        <tr>\n",
       "            <td>HH402660</td>\n",
       "        </tr>\n",
       "        <tr>\n",
       "            <td>G577663</td>\n",
       "        </tr>\n",
       "        <tr>\n",
       "            <td>HH729144</td>\n",
       "        </tr>\n",
       "        <tr>\n",
       "            <td>HH692211</td>\n",
       "        </tr>\n",
       "        <tr>\n",
       "            <td>HH463517</td>\n",
       "        </tr>\n",
       "        <tr>\n",
       "            <td>HH829588</td>\n",
       "        </tr>\n",
       "        <tr>\n",
       "            <td>HH343366</td>\n",
       "        </tr>\n",
       "        <tr>\n",
       "            <td>HH106347</td>\n",
       "        </tr>\n",
       "        <tr>\n",
       "            <td>HH154448</td>\n",
       "        </tr>\n",
       "        <tr>\n",
       "            <td>G659211</td>\n",
       "        </tr>\n",
       "        <tr>\n",
       "            <td>G375927</td>\n",
       "        </tr>\n",
       "        <tr>\n",
       "            <td>HH149573</td>\n",
       "        </tr>\n",
       "        <tr>\n",
       "            <td>HH859922</td>\n",
       "        </tr>\n",
       "        <tr>\n",
       "            <td>G611731</td>\n",
       "        </tr>\n",
       "        <tr>\n",
       "            <td>HH352862</td>\n",
       "        </tr>\n",
       "        <tr>\n",
       "            <td>G652158</td>\n",
       "        </tr>\n",
       "        <tr>\n",
       "            <td>HH605275</td>\n",
       "        </tr>\n",
       "        <tr>\n",
       "            <td>HH337319</td>\n",
       "        </tr>\n",
       "        <tr>\n",
       "            <td>HH423186</td>\n",
       "        </tr>\n",
       "        <tr>\n",
       "            <td>G654957</td>\n",
       "        </tr>\n",
       "        <tr>\n",
       "            <td>G629024</td>\n",
       "        </tr>\n",
       "        <tr>\n",
       "            <td>G345035</td>\n",
       "        </tr>\n",
       "        <tr>\n",
       "            <td>HH493814</td>\n",
       "        </tr>\n",
       "        <tr>\n",
       "            <td>G161722</td>\n",
       "        </tr>\n",
       "        <tr>\n",
       "            <td>HH208082</td>\n",
       "        </tr>\n",
       "        <tr>\n",
       "            <td>HH405177</td>\n",
       "        </tr>\n",
       "        <tr>\n",
       "            <td>G326063</td>\n",
       "        </tr>\n",
       "        <tr>\n",
       "            <td>HH329720</td>\n",
       "        </tr>\n",
       "        <tr>\n",
       "            <td>G575031</td>\n",
       "        </tr>\n",
       "        <tr>\n",
       "            <td>G122095</td>\n",
       "        </tr>\n",
       "        <tr>\n",
       "            <td>G302291</td>\n",
       "        </tr>\n",
       "        <tr>\n",
       "            <td>G057394</td>\n",
       "        </tr>\n",
       "        <tr>\n",
       "            <td>HH460583</td>\n",
       "        </tr>\n",
       "        <tr>\n",
       "            <td>HH292682</td>\n",
       "        </tr>\n",
       "        <tr>\n",
       "            <td>G635735</td>\n",
       "        </tr>\n",
       "        <tr>\n",
       "            <td>HH688935</td>\n",
       "        </tr>\n",
       "        <tr>\n",
       "            <td>G158614</td>\n",
       "        </tr>\n",
       "        <tr>\n",
       "            <td>G021609</td>\n",
       "        </tr>\n",
       "    </tbody>\n",
       "</table>"
      ],
      "text/plain": [
       "[('HH486939',),\n",
       " ('G256545',),\n",
       " ('HH201585',),\n",
       " ('G212935',),\n",
       " ('G662598',),\n",
       " ('G040244',),\n",
       " ('HH702524',),\n",
       " ('G376790',),\n",
       " ('HH869886',),\n",
       " ('HH657809',),\n",
       " ('HH316735',),\n",
       " ('G597730',),\n",
       " ('G736811',),\n",
       " ('G517474',),\n",
       " ('G056330',),\n",
       " ('HH696901',),\n",
       " ('HH558381',),\n",
       " ('G688026',),\n",
       " ('G419948',),\n",
       " ('G533278',),\n",
       " ('HH827769',),\n",
       " ('HH639427',),\n",
       " ('HH867007',),\n",
       " ('G070193',),\n",
       " ('G198370',),\n",
       " ('HH741961',),\n",
       " ('G140454',),\n",
       " ('HH262924',),\n",
       " ('HH619797',),\n",
       " ('G134016',),\n",
       " ('G496261',),\n",
       " ('HH576932',),\n",
       " ('G323273',),\n",
       " ('HH657604',),\n",
       " ('G170513',),\n",
       " ('HH402660',),\n",
       " ('G577663',),\n",
       " ('HH729144',),\n",
       " ('HH692211',),\n",
       " ('HH463517',),\n",
       " ('HH829588',),\n",
       " ('HH343366',),\n",
       " ('HH106347',),\n",
       " ('HH154448',),\n",
       " ('G659211',),\n",
       " ('G375927',),\n",
       " ('HH149573',),\n",
       " ('HH859922',),\n",
       " ('G611731',),\n",
       " ('HH352862',),\n",
       " ('G652158',),\n",
       " ('HH605275',),\n",
       " ('HH337319',),\n",
       " ('HH423186',),\n",
       " ('G654957',),\n",
       " ('G629024',),\n",
       " ('G345035',),\n",
       " ('HH493814',),\n",
       " ('G161722',),\n",
       " ('HH208082',),\n",
       " ('HH405177',),\n",
       " ('G326063',),\n",
       " ('HH329720',),\n",
       " ('G575031',),\n",
       " ('G122095',),\n",
       " ('G302291',),\n",
       " ('G057394',),\n",
       " ('HH460583',),\n",
       " ('HH292682',),\n",
       " ('G635735',),\n",
       " ('HH688935',),\n",
       " ('G158614',),\n",
       " ('G021609',)]"
      ]
     },
     "execution_count": 30,
     "metadata": {},
     "output_type": "execute_result"
    }
   ],
   "source": [
    "%sql select CASE_NUMBER from CHICAGO_CRIME_DATA where year(DATE)< 2003"
   ]
  },
  {
   "cell_type": "markdown",
   "metadata": {},
   "source": [
    "### Problem 4\n",
    "\n",
    "##### List all kidnapping crimes involving a child?\n"
   ]
  },
  {
   "cell_type": "code",
   "execution_count": 32,
   "metadata": {},
   "outputs": [
    {
     "name": "stdout",
     "output_type": "stream",
     "text": [
      " * ibm_db_sa://ktl54482:***@dashdb-txn-sbox-yp-dal09-14.services.dal.bluemix.net:50000/BLUDB\n",
      "Done.\n"
     ]
    },
    {
     "data": {
      "text/html": [
       "<table>\n",
       "    <thead>\n",
       "        <tr>\n",
       "            <th>primary_type</th>\n",
       "        </tr>\n",
       "    </thead>\n",
       "    <tbody>\n",
       "        <tr>\n",
       "            <td>KIDNAPPING</td>\n",
       "        </tr>\n",
       "    </tbody>\n",
       "</table>"
      ],
      "text/plain": [
       "[('KIDNAPPING',)]"
      ]
     },
     "execution_count": 32,
     "metadata": {},
     "output_type": "execute_result"
    }
   ],
   "source": [
    "%sql select PRIMARY_TYPE from CHICAGO_CRIME_DATA where PRIMARY_TYPE ='KIDNAPPING'"
   ]
  },
  {
   "cell_type": "markdown",
   "metadata": {},
   "source": [
    "### Problem 5\n",
    "\n",
    "##### What kinds of crimes were recorded at schools?\n"
   ]
  },
  {
   "cell_type": "code",
   "execution_count": 39,
   "metadata": {},
   "outputs": [
    {
     "name": "stdout",
     "output_type": "stream",
     "text": [
      " * ibm_db_sa://ktl54482:***@dashdb-txn-sbox-yp-dal09-14.services.dal.bluemix.net:50000/BLUDB\n",
      "Done.\n"
     ]
    },
    {
     "data": {
      "text/html": [
       "<table>\n",
       "    <thead>\n",
       "        <tr>\n",
       "            <th>primary_type</th>\n",
       "            <th>location_description</th>\n",
       "        </tr>\n",
       "    </thead>\n",
       "    <tbody>\n",
       "        <tr>\n",
       "            <td>BATTERY</td>\n",
       "            <td>SCHOOL, PUBLIC, GROUNDS</td>\n",
       "        </tr>\n",
       "        <tr>\n",
       "            <td>BATTERY</td>\n",
       "            <td>SCHOOL, PUBLIC, BUILDING</td>\n",
       "        </tr>\n",
       "        <tr>\n",
       "            <td>BATTERY</td>\n",
       "            <td>SCHOOL, PUBLIC, BUILDING</td>\n",
       "        </tr>\n",
       "        <tr>\n",
       "            <td>BATTERY</td>\n",
       "            <td>SCHOOL, PUBLIC, BUILDING</td>\n",
       "        </tr>\n",
       "        <tr>\n",
       "            <td>BATTERY</td>\n",
       "            <td>SCHOOL, PUBLIC, GROUNDS</td>\n",
       "        </tr>\n",
       "        <tr>\n",
       "            <td>CRIMINAL DAMAGE</td>\n",
       "            <td>SCHOOL, PUBLIC, GROUNDS</td>\n",
       "        </tr>\n",
       "        <tr>\n",
       "            <td>NARCOTICS</td>\n",
       "            <td>SCHOOL, PUBLIC, GROUNDS</td>\n",
       "        </tr>\n",
       "        <tr>\n",
       "            <td>NARCOTICS</td>\n",
       "            <td>SCHOOL, PUBLIC, BUILDING</td>\n",
       "        </tr>\n",
       "        <tr>\n",
       "            <td>ASSAULT</td>\n",
       "            <td>SCHOOL, PUBLIC, GROUNDS</td>\n",
       "        </tr>\n",
       "        <tr>\n",
       "            <td>CRIMINAL TRESPASS</td>\n",
       "            <td>SCHOOL, PUBLIC, GROUNDS</td>\n",
       "        </tr>\n",
       "        <tr>\n",
       "            <td>PUBLIC PEACE VIOLATION</td>\n",
       "            <td>SCHOOL, PRIVATE, BUILDING</td>\n",
       "        </tr>\n",
       "        <tr>\n",
       "            <td>PUBLIC PEACE VIOLATION</td>\n",
       "            <td>SCHOOL, PUBLIC, BUILDING</td>\n",
       "        </tr>\n",
       "    </tbody>\n",
       "</table>"
      ],
      "text/plain": [
       "[('BATTERY', 'SCHOOL, PUBLIC, GROUNDS'),\n",
       " ('BATTERY', 'SCHOOL, PUBLIC, BUILDING'),\n",
       " ('BATTERY', 'SCHOOL, PUBLIC, BUILDING'),\n",
       " ('BATTERY', 'SCHOOL, PUBLIC, BUILDING'),\n",
       " ('BATTERY', 'SCHOOL, PUBLIC, GROUNDS'),\n",
       " ('CRIMINAL DAMAGE', 'SCHOOL, PUBLIC, GROUNDS'),\n",
       " ('NARCOTICS', 'SCHOOL, PUBLIC, GROUNDS'),\n",
       " ('NARCOTICS', 'SCHOOL, PUBLIC, BUILDING'),\n",
       " ('ASSAULT', 'SCHOOL, PUBLIC, GROUNDS'),\n",
       " ('CRIMINAL TRESPASS', 'SCHOOL, PUBLIC, GROUNDS'),\n",
       " ('PUBLIC PEACE VIOLATION', 'SCHOOL, PRIVATE, BUILDING'),\n",
       " ('PUBLIC PEACE VIOLATION', 'SCHOOL, PUBLIC, BUILDING')]"
      ]
     },
     "execution_count": 39,
     "metadata": {},
     "output_type": "execute_result"
    }
   ],
   "source": [
    "%sql select PRIMARY_TYPE,LOCATION_DESCRIPTION from CHICAGO_CRIME_DATA where LOCATION_DESCRIPTION LIKE'SCHOOL%'"
   ]
  },
  {
   "cell_type": "markdown",
   "metadata": {},
   "source": [
    "### Problem 6\n",
    "\n",
    "##### List the average safety score for all types of schools.\n"
   ]
  },
  {
   "cell_type": "code",
   "execution_count": 40,
   "metadata": {},
   "outputs": [
    {
     "name": "stdout",
     "output_type": "stream",
     "text": [
      " * ibm_db_sa://ktl54482:***@dashdb-txn-sbox-yp-dal09-14.services.dal.bluemix.net:50000/BLUDB\n",
      "Done.\n"
     ]
    },
    {
     "data": {
      "text/html": [
       "<table>\n",
       "    <thead>\n",
       "        <tr>\n",
       "            <th>average_safety_score</th>\n",
       "        </tr>\n",
       "    </thead>\n",
       "    <tbody>\n",
       "        <tr>\n",
       "            <td>49.504873</td>\n",
       "        </tr>\n",
       "    </tbody>\n",
       "</table>"
      ],
      "text/plain": [
       "[(Decimal('49.504873'),)]"
      ]
     },
     "execution_count": 40,
     "metadata": {},
     "output_type": "execute_result"
    }
   ],
   "source": [
    "%sql select AVG(SAFETY_SCORE) as average_safety_score from CHICAGO_PUBLIC_SCHOOLS"
   ]
  },
  {
   "cell_type": "markdown",
   "metadata": {},
   "source": [
    "### Problem 7\n",
    "\n",
    "##### List 5 community areas with highest % of households below poverty line\n"
   ]
  },
  {
   "cell_type": "code",
   "execution_count": 41,
   "metadata": {},
   "outputs": [
    {
     "name": "stdout",
     "output_type": "stream",
     "text": [
      " * ibm_db_sa://ktl54482:***@dashdb-txn-sbox-yp-dal09-14.services.dal.bluemix.net:50000/BLUDB\n",
      "Done.\n"
     ]
    },
    {
     "data": {
      "text/html": [
       "<table>\n",
       "    <thead>\n",
       "        <tr>\n",
       "            <th>community_area_name</th>\n",
       "        </tr>\n",
       "    </thead>\n",
       "    <tbody>\n",
       "        <tr>\n",
       "            <td>Riverdale</td>\n",
       "        </tr>\n",
       "        <tr>\n",
       "            <td>Fuller Park</td>\n",
       "        </tr>\n",
       "        <tr>\n",
       "            <td>Englewood</td>\n",
       "        </tr>\n",
       "        <tr>\n",
       "            <td>North Lawndale</td>\n",
       "        </tr>\n",
       "        <tr>\n",
       "            <td>East Garfield Park</td>\n",
       "        </tr>\n",
       "    </tbody>\n",
       "</table>"
      ],
      "text/plain": [
       "[('Riverdale',),\n",
       " ('Fuller Park',),\n",
       " ('Englewood',),\n",
       " ('North Lawndale',),\n",
       " ('East Garfield Park',)]"
      ]
     },
     "execution_count": 41,
     "metadata": {},
     "output_type": "execute_result"
    }
   ],
   "source": [
    "%sql select COMMUNITY_AREA_NAME from CENSUS_DATA order by PERCENT_HOUSEHOLDS_BELOW_POVERTY desc limit 5"
   ]
  },
  {
   "cell_type": "markdown",
   "metadata": {},
   "source": [
    "### Problem 8\n",
    "\n",
    "##### Which community area is most crime prone?\n"
   ]
  },
  {
   "cell_type": "code",
   "execution_count": 42,
   "metadata": {},
   "outputs": [
    {
     "name": "stdout",
     "output_type": "stream",
     "text": [
      " * ibm_db_sa://ktl54482:***@dashdb-txn-sbox-yp-dal09-14.services.dal.bluemix.net:50000/BLUDB\n",
      "Done.\n"
     ]
    },
    {
     "data": {
      "text/html": [
       "<table>\n",
       "    <thead>\n",
       "        <tr>\n",
       "            <th>community_area_name</th>\n",
       "        </tr>\n",
       "    </thead>\n",
       "    <tbody>\n",
       "        <tr>\n",
       "            <td>Edgewater</td>\n",
       "        </tr>\n",
       "    </tbody>\n",
       "</table>"
      ],
      "text/plain": [
       "[('Edgewater',)]"
      ]
     },
     "execution_count": 42,
     "metadata": {},
     "output_type": "execute_result"
    }
   ],
   "source": [
    "%%sql select D.COMMUNITY_AREA_NAME from CENSUS_DATA D,CHICAGO_CRIME_DATA S where D.COMMUNITY_AREA_NUMBER=S.COMMUNITY_AREA_NUMBER\n",
    "order by S.COMMUNITY_AREA_NUMBER desc limit 1"
   ]
  },
  {
   "cell_type": "markdown",
   "metadata": {},
   "source": [
    "### Problem 9\n",
    "\n",
    "##### Use a sub-query to find the name of the community area with highest hardship index\n"
   ]
  },
  {
   "cell_type": "code",
   "execution_count": 43,
   "metadata": {},
   "outputs": [
    {
     "name": "stdout",
     "output_type": "stream",
     "text": [
      " * ibm_db_sa://ktl54482:***@dashdb-txn-sbox-yp-dal09-14.services.dal.bluemix.net:50000/BLUDB\n",
      "Done.\n"
     ]
    },
    {
     "data": {
      "text/html": [
       "<table>\n",
       "    <thead>\n",
       "        <tr>\n",
       "            <th>community_area_name</th>\n",
       "        </tr>\n",
       "    </thead>\n",
       "    <tbody>\n",
       "        <tr>\n",
       "            <td>Riverdale</td>\n",
       "        </tr>\n",
       "    </tbody>\n",
       "</table>"
      ],
      "text/plain": [
       "[('Riverdale',)]"
      ]
     },
     "execution_count": 43,
     "metadata": {},
     "output_type": "execute_result"
    }
   ],
   "source": [
    "%sql select COMMUNITY_AREA_NAME from CENSUS_DATA where HARDSHIP_INDEX= (select MAX(HARDSHIP_INDEX) from CENSUS_DATA )"
   ]
  },
  {
   "cell_type": "markdown",
   "metadata": {},
   "source": [
    "### Problem 10\n",
    "\n",
    "##### Use a sub-query to determine the Community Area Name with most number of crimes?\n"
   ]
  },
  {
   "cell_type": "code",
   "execution_count": 8,
   "metadata": {},
   "outputs": [
    {
     "name": "stdout",
     "output_type": "stream",
     "text": [
      " * ibm_db_sa://ktl54482:***@dashdb-txn-sbox-yp-dal09-14.services.dal.bluemix.net:50000/BLUDB\n",
      "Done.\n"
     ]
    },
    {
     "data": {
      "text/html": [
       "<table>\n",
       "    <thead>\n",
       "        <tr>\n",
       "            <th>community_area_name</th>\n",
       "            <th>most_prone_to_crime_city</th>\n",
       "        </tr>\n",
       "    </thead>\n",
       "    <tbody>\n",
       "        <tr>\n",
       "            <td>Brighton Park</td>\n",
       "            <td>77</td>\n",
       "        </tr>\n",
       "    </tbody>\n",
       "</table>"
      ],
      "text/plain": [
       "[('Brighton Park', 77)]"
      ]
     },
     "execution_count": 8,
     "metadata": {},
     "output_type": "execute_result"
    }
   ],
   "source": [
    "%%sql select D.COMMUNITY_AREA_NAME,(select MAX(COMMUNITY_AREA_NUMBER) as most_prone_to_crime_city from CHICAGO_CRIME_DATA ) \n",
    "from CENSUS_DATA D,CHICAGO_CRIME_DATA S \n",
    "where D.COMMUNITY_AREA_NUMBER=S.COMMUNITY_AREA_NUMBER limit 1"
   ]
  }
 ],
 "metadata": {
  "kernelspec": {
   "display_name": "Python 3",
   "language": "python",
   "name": "python3"
  },
  "language_info": {
   "codemirror_mode": {
    "name": "ipython",
    "version": 3
   },
   "file_extension": ".py",
   "mimetype": "text/x-python",
   "name": "python",
   "nbconvert_exporter": "python",
   "pygments_lexer": "ipython3",
   "version": "3.8.8"
  },
  "widgets": {
   "state": {},
   "version": "1.1.2"
  }
 },
 "nbformat": 4,
 "nbformat_minor": 4
}
